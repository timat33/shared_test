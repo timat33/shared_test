{
 "cells": [
  {
   "cell_type": "code",
   "execution_count": 150,
   "id": "84698fb5-fac5-4563-8ad3-413b19768291",
   "metadata": {
    "tags": []
   },
   "outputs": [
    {
     "data": {
      "text/plain": [
       "[8, 7, 7, 8, 9, 3, 2, 8, 7, 9, 2, 1, 7, 4, 2, 1, 8, 0, 9]"
      ]
     },
     "execution_count": 150,
     "metadata": {},
     "output_type": "execute_result"
    }
   ],
   "source": [
    "from random import randint\n",
    "from random import seed\n",
    "seed(11)\n",
    "\n",
    "randint(0,9)\n",
    "\n",
    "vs = [randint(0,9) for i in range(1,20)] #set(vs) changes this list to a set, which removes duplicates."
   ]
  },
  {
   "cell_type": "code",
   "execution_count": 87,
   "id": "efc2c03d-af1e-407c-8abe-82690d98d79c",
   "metadata": {
    "tags": []
   },
   "outputs": [
    {
     "data": {
      "text/plain": [
       "{0: 1, 1: 2, 2: 3, 3: 1, 4: 1, 7: 4, 8: 4, 9: 3}"
      ]
     },
     "execution_count": 87,
     "metadata": {},
     "output_type": "execute_result"
    }
   ],
   "source": [
    "counts = [vs.count(i) for i in range(0,10) if i in vs]\n",
    "dict(zip(set(vs), counts))"
   ]
  },
  {
   "cell_type": "code",
   "execution_count": 96,
   "id": "597186ba-3f9c-4a0d-9aad-e8903a4b60ee",
   "metadata": {
    "tags": []
   },
   "outputs": [
    {
     "data": {
      "text/plain": [
       "{'SB-222-W': 'red', 'XC-333-L': 'red', 'UI-222-R': 'green'}"
      ]
     },
     "execution_count": 96,
     "metadata": {},
     "output_type": "execute_result"
    }
   ],
   "source": [
    "licPlate2color = {\n",
    "    \"VA-111-V\": \"silver\", \"SB-222-W\": \"red\", \"XC-333-L\": \"red\",\n",
    "    \"AB-111-E\": \"white\", \"ER-222-U\": \"black\", \"BV-333-Z\": \"white\",\n",
    "    \"CC-111-J\": \"silver\", \"UI-222-R\": \"green\", \"GF-333-U\": \"silver\",\n",
    "    \"WT-111-K\": \"white\", \"KJ-222-Q\": \"silver\", \"LK-333-I\": \"black\",\n",
    "}\n",
    "toRemoveColors = [ \"white\", \"silver\", \"black\" ]\n",
    "\n",
    "{lp : col for lp, col in licPlate2color.items() if col not in toRemoveColors}"
   ]
  },
  {
   "cell_type": "code",
   "execution_count": 149,
   "id": "5d4c8a89-e683-4863-8123-f99350e94d05",
   "metadata": {
    "tags": []
   },
   "outputs": [
    {
     "data": {
      "text/plain": [
       "{'pl': ['Grzegorz', 'Małgorzata', 'Paweł'],\n",
       " 'es': ['Ana', 'Sofia', 'Javier', 'Sofia'],\n",
       " 'nl': ['Jeroen', 'Sanne']}"
      ]
     },
     "execution_count": 149,
     "metadata": {},
     "output_type": "execute_result"
    }
   ],
   "source": [
    "names =     [\"Grzegorz\", \"Małgorzata\", \"Paweł\", \"Jeroen\", \"Sanne\", \"Ana\", \"Sofia\", \"Javier\", \"Sofia\"]\n",
    "countries = [\"pl\",       \"pl\",         \"pl\",    \"nl\",     \"nl\",    \"es\",  \"es\",    \"es\",     \"es\"]\n",
    "\n",
    "\n",
    "#attempt1 = [name for country, name in zipped if country == 'pl']\n",
    "#print(attempt1)\n",
    "\n",
    "{cy : [name for country, name in zip(countries,names) if country == cy]   for cy in set(countries)  }\n"
   ]
  },
  {
   "cell_type": "code",
   "execution_count": 166,
   "id": "988987ab-80a8-4239-8e7f-fb5621d60295",
   "metadata": {},
   "outputs": [
    {
     "data": {
      "text/plain": [
       "{'setter': ['Simon'],\n",
       " 'dia': ['Marnick'],\n",
       " 'middle': ['Mark', 'Carl'],\n",
       " 'outside': ['Ronald', 'Alex']}"
      ]
     },
     "execution_count": 166,
     "metadata": {},
     "output_type": "execute_result"
    }
   ],
   "source": [
    "from random import sample\n",
    "\n",
    "role2num = { \"setter\": 1, \"dia\": 1, \"middle\": 2, \"outside\": 2 }\n",
    "\n",
    "player2role = { \n",
    "    \"Chen\": \"setter\", \"Simon\": \"setter\",\n",
    "    \"Marnick\": \"dia\",\n",
    "    \"Mark\": \"middle\", \"Laurens\": \"middle\", \"Carl\": \"middle\", \"Luuk\": \"middle\",\n",
    "    \"Ronald\": \"outside\", \"Alex\": \"outside\", \"Vincent\": \"outside\", \"Kadir\": \"outside\"\n",
    "}\n",
    "\n",
    "#Reverse:\n",
    "role2player = {rl : [player for player, role in player2role.items() if role == rl] for plyr, rl in player2role.items() }\n",
    "\n",
    "{pos : sample(role2player[pos],nr) for pos, nr in role2num.items()}\n"
   ]
  },
  {
   "cell_type": "code",
   "execution_count": 176,
   "id": "111c455b-366f-4258-8503-c087db7c0176",
   "metadata": {
    "tags": []
   },
   "outputs": [
    {
     "data": {
      "text/plain": [
       "['sierra',\n",
       " 'tango',\n",
       " 'alpha',\n",
       " 'tango',\n",
       " 'india',\n",
       " 'sierra',\n",
       " 'tango',\n",
       " 'india',\n",
       " 'charlie',\n",
       " 'sierra']"
      ]
     },
     "execution_count": 176,
     "metadata": {},
     "output_type": "execute_result"
    }
   ],
   "source": [
    "codeWords = \"alpha bravo charlie delta echo foxtrot golf hotel india juliet kilo lima mike november oscar papa quebec romeo sierra tango uniform victor whiskey x-ray yankee zulu\"\n",
    "codeWordsList = codeWords.split()\n",
    "dct = {cw[0] : cw for cw in codeWordsList}\n",
    "\n",
    "word = \"statistics\"\n",
    "[dct[c] for c in word]"
   ]
  },
  {
   "cell_type": "code",
   "execution_count": 191,
   "id": "c2890175-d5f9-46b1-ae82-774760d96527",
   "metadata": {
    "tags": []
   },
   "outputs": [
    {
     "data": {
      "text/plain": [
       "[('2023-02-13T00:00', 5.6),\n",
       " ('2023-02-13T01:00', 5.6),\n",
       " ('2023-02-13T02:00', 5.8),\n",
       " ('2023-02-13T03:00', 6.2),\n",
       " ('2023-02-13T04:00', 6.1),\n",
       " ('2023-02-13T05:00', 6.1),\n",
       " ('2023-02-13T06:00', 6.3),\n",
       " ('2023-02-13T07:00', 6.2),\n",
       " ('2023-02-13T08:00', 6.1),\n",
       " ('2023-02-13T09:00', 7.2),\n",
       " ('2023-02-13T10:00', 7.8),\n",
       " ('2023-02-13T11:00', 8.8),\n",
       " ('2023-02-13T12:00', 10.2),\n",
       " ('2023-02-13T13:00', 10.8),\n",
       " ('2023-02-13T14:00', 11.3),\n",
       " ('2023-02-13T15:00', 11.3),\n",
       " ('2023-02-13T16:00', 10.7),\n",
       " ('2023-02-13T17:00', 9.3),\n",
       " ('2023-02-13T18:00', 7.9),\n",
       " ('2023-02-13T19:00', 7.0),\n",
       " ('2023-02-13T20:00', 6.2),\n",
       " ('2023-02-13T21:00', 5.5),\n",
       " ('2023-02-13T22:00', 5.0),\n",
       " ('2023-02-13T23:00', 4.5),\n",
       " ('2023-02-14T00:00', 4.1),\n",
       " ('2023-02-14T01:00', 3.7),\n",
       " ('2023-02-14T02:00', 3.4),\n",
       " ('2023-02-14T03:00', 3.1),\n",
       " ('2023-02-14T04:00', 2.8),\n",
       " ('2023-02-14T05:00', 2.6),\n",
       " ('2023-02-14T06:00', 2.4),\n",
       " ('2023-02-14T07:00', 2.2),\n",
       " ('2023-02-14T08:00', 2.1),\n",
       " ('2023-02-14T09:00', 2.9),\n",
       " ('2023-02-14T10:00', 5.1),\n",
       " ('2023-02-14T11:00', 7.3),\n",
       " ('2023-02-14T12:00', 8.9),\n",
       " ('2023-02-14T13:00', 9.9),\n",
       " ('2023-02-14T14:00', 10.4),\n",
       " ('2023-02-14T15:00', 10.5),\n",
       " ('2023-02-14T16:00', 10.0),\n",
       " ('2023-02-14T17:00', 7.9),\n",
       " ('2023-02-14T18:00', 6.8),\n",
       " ('2023-02-14T19:00', 5.9),\n",
       " ('2023-02-14T20:00', 5.0),\n",
       " ('2023-02-14T21:00', 4.3),\n",
       " ('2023-02-14T22:00', 3.8),\n",
       " ('2023-02-14T23:00', 3.3),\n",
       " ('2023-02-15T00:00', 2.8),\n",
       " ('2023-02-15T01:00', 2.4),\n",
       " ('2023-02-15T02:00', 2.2),\n",
       " ('2023-02-15T03:00', 1.9),\n",
       " ('2023-02-15T04:00', 1.6),\n",
       " ('2023-02-15T05:00', 1.4),\n",
       " ('2023-02-15T06:00', 1.3),\n",
       " ('2023-02-15T07:00', 1.2),\n",
       " ('2023-02-15T08:00', 1.4),\n",
       " ('2023-02-15T09:00', 2.6),\n",
       " ('2023-02-15T10:00', 4.6),\n",
       " ('2023-02-15T11:00', 6.5),\n",
       " ('2023-02-15T12:00', 8.0),\n",
       " ('2023-02-15T13:00', 8.9),\n",
       " ('2023-02-15T14:00', 9.4),\n",
       " ('2023-02-15T15:00', 9.4),\n",
       " ('2023-02-15T16:00', 8.9),\n",
       " ('2023-02-15T17:00', 7.9),\n",
       " ('2023-02-15T18:00', 7.1),\n",
       " ('2023-02-15T19:00', 6.7),\n",
       " ('2023-02-15T20:00', 6.5),\n",
       " ('2023-02-15T21:00', 6.5),\n",
       " ('2023-02-15T22:00', 6.4),\n",
       " ('2023-02-15T23:00', 6.4),\n",
       " ('2023-02-16T00:00', 6.5),\n",
       " ('2023-02-16T01:00', 7.0),\n",
       " ('2023-02-16T02:00', 7.2),\n",
       " ('2023-02-16T03:00', 7.3),\n",
       " ('2023-02-16T04:00', 7.1),\n",
       " ('2023-02-16T05:00', 7.0),\n",
       " ('2023-02-16T06:00', 7.0),\n",
       " ('2023-02-16T07:00', 6.8),\n",
       " ('2023-02-16T08:00', 6.9),\n",
       " ('2023-02-16T09:00', 7.3),\n",
       " ('2023-02-16T10:00', 7.7),\n",
       " ('2023-02-16T11:00', 8.3),\n",
       " ('2023-02-16T12:00', 8.7),\n",
       " ('2023-02-16T13:00', 8.9),\n",
       " ('2023-02-16T14:00', 8.9),\n",
       " ('2023-02-16T15:00', 8.9),\n",
       " ('2023-02-16T16:00', 8.8),\n",
       " ('2023-02-16T17:00', 8.7),\n",
       " ('2023-02-16T18:00', 8.6),\n",
       " ('2023-02-16T19:00', 8.6),\n",
       " ('2023-02-16T20:00', 8.7),\n",
       " ('2023-02-16T21:00', 8.8),\n",
       " ('2023-02-16T22:00', 8.9),\n",
       " ('2023-02-16T23:00', 9.1),\n",
       " ('2023-02-17T00:00', 9.4),\n",
       " ('2023-02-17T01:00', 9.5),\n",
       " ('2023-02-17T02:00', 9.6),\n",
       " ('2023-02-17T03:00', 9.8),\n",
       " ('2023-02-17T04:00', 9.9),\n",
       " ('2023-02-17T05:00', 10.0),\n",
       " ('2023-02-17T06:00', 10.1),\n",
       " ('2023-02-17T07:00', 10.1),\n",
       " ('2023-02-17T08:00', 10.1),\n",
       " ('2023-02-17T09:00', 10.1),\n",
       " ('2023-02-17T10:00', 10.0),\n",
       " ('2023-02-17T11:00', 9.9),\n",
       " ('2023-02-17T12:00', 9.8),\n",
       " ('2023-02-17T13:00', 9.7),\n",
       " ('2023-02-17T14:00', 9.7),\n",
       " ('2023-02-17T15:00', 9.6),\n",
       " ('2023-02-17T16:00', 9.4),\n",
       " ('2023-02-17T17:00', 9.1),\n",
       " ('2023-02-17T18:00', 8.8),\n",
       " ('2023-02-17T19:00', 8.7),\n",
       " ('2023-02-17T20:00', 8.5),\n",
       " ('2023-02-17T21:00', 8.3),\n",
       " ('2023-02-17T22:00', 8.1),\n",
       " ('2023-02-17T23:00', 7.8),\n",
       " ('2023-02-18T00:00', 7.5),\n",
       " ('2023-02-18T01:00', 7.2),\n",
       " ('2023-02-18T02:00', 7.0),\n",
       " ('2023-02-18T03:00', 6.7),\n",
       " ('2023-02-18T04:00', 6.5),\n",
       " ('2023-02-18T05:00', 6.3),\n",
       " ('2023-02-18T06:00', 6.1),\n",
       " ('2023-02-18T07:00', 6.5),\n",
       " ('2023-02-18T08:00', 6.6),\n",
       " ('2023-02-18T09:00', 6.8),\n",
       " ('2023-02-18T10:00', 6.8),\n",
       " ('2023-02-18T11:00', 6.8),\n",
       " ('2023-02-18T12:00', 6.9),\n",
       " ('2023-02-18T13:00', 7.4),\n",
       " ('2023-02-18T14:00', 8.0),\n",
       " ('2023-02-18T15:00', 8.7),\n",
       " ('2023-02-18T16:00', 8.9),\n",
       " ('2023-02-18T17:00', 8.9),\n",
       " ('2023-02-18T18:00', 8.9),\n",
       " ('2023-02-18T19:00', 8.9),\n",
       " ('2023-02-18T20:00', 8.9),\n",
       " ('2023-02-18T21:00', 8.9),\n",
       " ('2023-02-18T22:00', 9.0),\n",
       " ('2023-02-18T23:00', 9.1),\n",
       " ('2023-02-19T00:00', 9.2),\n",
       " ('2023-02-19T01:00', 9.1),\n",
       " ('2023-02-19T02:00', 9.1),\n",
       " ('2023-02-19T03:00', 8.9),\n",
       " ('2023-02-19T04:00', 8.8),\n",
       " ('2023-02-19T05:00', 8.6),\n",
       " ('2023-02-19T06:00', 8.4),\n",
       " ('2023-02-19T07:00', 8.3),\n",
       " ('2023-02-19T08:00', 8.2),\n",
       " ('2023-02-19T09:00', 8.1),\n",
       " ('2023-02-19T10:00', 8.1),\n",
       " ('2023-02-19T11:00', 8.2),\n",
       " ('2023-02-19T12:00', 8.2),\n",
       " ('2023-02-19T13:00', 8.2),\n",
       " ('2023-02-19T14:00', 8.2),\n",
       " ('2023-02-19T15:00', 8.1),\n",
       " ('2023-02-19T16:00', 8.0),\n",
       " ('2023-02-19T17:00', 7.9),\n",
       " ('2023-02-19T18:00', 7.6),\n",
       " ('2023-02-19T19:00', 7.2),\n",
       " ('2023-02-19T20:00', 6.7),\n",
       " ('2023-02-19T21:00', 6.0),\n",
       " ('2023-02-19T22:00', 5.6),\n",
       " ('2023-02-19T23:00', 5.2)]"
      ]
     },
     "execution_count": 191,
     "metadata": {},
     "output_type": "execute_result"
    }
   ],
   "source": [
    "import urllib.request, json \n",
    "url = \"https://api.open-meteo.com/v1/forecast?latitude=52.16&longitude=4.49&hourly=temperature_2m\"\n",
    "data = json.load( urllib.request.urlopen(url) )\n",
    "#print(data)          # use this to print the nested list with data\n",
    "data['hourly']['time']\n",
    "data['hourly']['temperature_2m']\n",
    "time2temp = list(zip(data['hourly']['time'], data['hourly']['temperature_2m']))\n",
    "time2temp"
   ]
  },
  {
   "cell_type": "code",
   "execution_count": 194,
   "id": "d0e74336-5802-4560-b349-0a17709e06e2",
   "metadata": {
    "tags": []
   },
   "outputs": [],
   "source": [
    "import os\n",
    "os.getcwd()\n",
    "os.chdir(r'C:\\Users\\timte\\Google Drive\\Leiden\\Essentials For Data Science\\Python Repo')\n"
   ]
  }
 ],
 "metadata": {
  "kernelspec": {
   "display_name": "Python 3 (ipykernel)",
   "language": "python",
   "name": "python3"
  },
  "language_info": {
   "codemirror_mode": {
    "name": "ipython",
    "version": 3
   },
   "file_extension": ".py",
   "mimetype": "text/x-python",
   "name": "python",
   "nbconvert_exporter": "python",
   "pygments_lexer": "ipython3",
   "version": "3.11.1"
  }
 },
 "nbformat": 4,
 "nbformat_minor": 5
}
